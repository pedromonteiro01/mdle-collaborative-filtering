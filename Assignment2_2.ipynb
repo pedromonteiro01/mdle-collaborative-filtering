{
 "cells": [
  {
   "cell_type": "code",
   "execution_count": 26,
   "metadata": {},
   "outputs": [],
   "source": [
    "from pyspark import SparkContext, SparkConf\n",
    "from pyspark.sql import SparkSession\n",
    "\n",
    "import pandas as pd"
   ]
  },
  {
   "cell_type": "code",
   "execution_count": 27,
   "metadata": {},
   "outputs": [],
   "source": [
    "# Spark Constants\n",
    "APP_NAME = 'assignment1'\n",
    "MASTER = 'local[*]'\n",
    "\n",
    "#random hyper planes\n",
    "# Data Columns\n",
    "COLUMN_USER_ID = 'userId'\n",
    "COLUMN_MOVIE_ID = 'movieId'\n",
    "COLUMN_RATING = 'rating'\n",
    "COLUMN_TIMESTAMP = 'timestamp'\n",
    "\n",
    "# Input Constants\n",
    "MOVIES_INPUT_FILE = 'movies.csv'\n",
    "TAGS_INPUT_FILE = 'tags.csv'\n",
    "RATINGS_INPUT_FILE = 'ratings.csv'"
   ]
  },
  {
   "cell_type": "code",
   "execution_count": 28,
   "metadata": {},
   "outputs": [],
   "source": [
    "conf = SparkConf().setAppName(APP_NAME).setMaster(MASTER)\n",
    "sc = SparkContext.getOrCreate(conf=conf)\n",
    "\n",
    "spark = SparkSession.builder.appName(APP_NAME).master(MASTER).getOrCreate()"
   ]
  },
  {
   "cell_type": "code",
   "execution_count": 25,
   "metadata": {},
   "outputs": [
    {
     "name": "stdout",
     "output_type": "stream",
     "text": [
      "[ 5 16  8 ... 21 21 21]\n",
      "(9724,)\n"
     ]
    }
   ],
   "source": [
    "from sklearn.preprocessing import StandardScaler\n",
    "from sklearn.cluster import AgglomerativeClustering\n",
    "\n",
    "ratings = pd.read_csv('ratings.csv')\n",
    "\n",
    "user_item_matrix = ratings.pivot(index='movieId', columns='userId', values='rating').fillna(0)\n",
    "\n",
    "X = user_item_matrix.values\n",
    "X = StandardScaler().fit(X).transform(X)\n",
    "\n",
    "clusters = AgglomerativeClustering(n_clusters=None, distance_threshold=200).fit_predict(X)\n",
    "\n",
    "print(clusters)\n",
    "print(clusters.shape)"
   ]
  },
  {
   "cell_type": "code",
   "execution_count": 212,
   "metadata": {},
   "outputs": [],
   "source": [
    "import numpy as np\n",
    "\n",
    "from numpy import dot\n",
    "from numpy.linalg import norm\n",
    "\n",
    "def predict_rating(user_id, movie_id):\n",
    "    movie_idx = user_item_matrix.index.get_loc(movie_id)\n",
    "    movie_to_predict = user_item_matrix.loc[movie_id]\n",
    "\n",
    "    similar_movies = user_item_matrix[clusters == clusters[movie_idx]].drop(movie_id)\n",
    "\n",
    "    distances = dot(movie_to_predict, similar_movies.T)/(norm(movie_to_predict)*norm(similar_movies.T))\n",
    "    \n",
    "    user_ratings = similar_movies.get(user_id)\n",
    "\n",
    "    rating_prediction = np.dot(user_ratings, distances).sum()/distances[user_ratings != 0].sum()\n",
    "\n",
    "    return rating_prediction"
   ]
  },
  {
   "cell_type": "code",
   "execution_count": 211,
   "metadata": {},
   "outputs": [
    {
     "name": "stdout",
     "output_type": "stream",
     "text": [
      "movieId\n",
      "327     4.5\n",
      "531     2.5\n",
      "1199    4.0\n",
      "3624    2.0\n",
      "4361    1.0\n",
      "Name: 416, dtype: float64\n"
     ]
    },
    {
     "data": {
      "text/plain": [
       "3.2368148914167527"
      ]
     },
     "execution_count": 211,
     "metadata": {},
     "output_type": "execute_result"
    }
   ],
   "source": [
    "predict_rating(416, 319)"
   ]
  }
 ],
 "metadata": {
  "kernelspec": {
   "display_name": "Python 3",
   "language": "python",
   "name": "python3"
  },
  "language_info": {
   "codemirror_mode": {
    "name": "ipython",
    "version": 3
   },
   "file_extension": ".py",
   "mimetype": "text/x-python",
   "name": "python",
   "nbconvert_exporter": "python",
   "pygments_lexer": "ipython3",
   "version": "3.10.10"
  },
  "orig_nbformat": 4
 },
 "nbformat": 4,
 "nbformat_minor": 2
}
