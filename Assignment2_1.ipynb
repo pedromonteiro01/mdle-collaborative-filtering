{
 "cells": [
  {
   "cell_type": "code",
   "execution_count": 2,
   "metadata": {},
   "outputs": [],
   "source": [
    "from pyspark import SparkContext, SparkConf\n",
    "from pyspark.sql import SparkSession\n",
    "\n",
    "import json"
   ]
  },
  {
   "cell_type": "code",
   "execution_count": 3,
   "metadata": {},
   "outputs": [],
   "source": [
    "# Spark Constants\n",
    "APP_NAME = 'assignment1'\n",
    "MASTER = 'local[*]'\n",
    "\n",
    "# Input Constants\n",
    "INPUT_METADATA_FILE = 'tracks.csv'\n",
    "INPUT_FEATURES_FILE = 'features.csv'"
   ]
  },
  {
   "cell_type": "code",
   "execution_count": 4,
   "metadata": {},
   "outputs": [
    {
     "name": "stdout",
     "output_type": "stream",
     "text": [
      "23/04/13 09:17:14 WARN Utils: Your hostname, pedro-duarte resolves to a loopback address: 127.0.1.1; using 192.168.32.217 instead (on interface wlp2s0)\n",
      "23/04/13 09:17:14 WARN Utils: Set SPARK_LOCAL_IP if you need to bind to another address\n"
     ]
    },
    {
     "name": "stderr",
     "output_type": "stream",
     "text": [
      "Setting default log level to \"WARN\".\n",
      "To adjust logging level use sc.setLogLevel(newLevel). For SparkR, use setLogLevel(newLevel).\n"
     ]
    },
    {
     "name": "stdout",
     "output_type": "stream",
     "text": [
      "23/04/13 09:17:15 WARN NativeCodeLoader: Unable to load native-hadoop library for your platform... using builtin-java classes where applicable\n"
     ]
    }
   ],
   "source": [
    "conf = SparkConf().setAppName(APP_NAME).setMaster(MASTER)\n",
    "sc = SparkContext.getOrCreate(conf=conf)\n",
    "\n",
    "spark = SparkSession.builder.appName(APP_NAME).master(MASTER).getOrCreate()"
   ]
  },
  {
   "cell_type": "code",
   "execution_count": 22,
   "metadata": {},
   "outputs": [
    {
     "name": "stderr",
     "output_type": "stream",
     "text": [
      "                                                                                \r"
     ]
    },
    {
     "data": {
      "text/plain": [
       "StructType([StructField('album_comments', StringType(), True), StructField('album_date_created', StringType(), True), StructField('album_date_released', StringType(), True), StructField('album_engineer', StringType(), True), StructField('album_favorites', StringType(), True), StructField('album_id', StringType(), True), StructField('album_information', StringType(), True), StructField('album_listens', StringType(), True), StructField('album_producer', StringType(), True), StructField('album_tags', StringType(), True), StructField('album_title', StringType(), True), StructField('album_tracks', StringType(), True), StructField('album_type', StringType(), True), StructField('artist_active_year_begin', StringType(), True), StructField('artist_active_year_end', StringType(), True), StructField('artist_associated_labels', StringType(), True), StructField('artist_bio', StringType(), True), StructField('artist_comments', StringType(), True), StructField('artist_date_created', StringType(), True), StructField('artist_favorites', StringType(), True), StructField('artist_id', StringType(), True), StructField('artist_latitude', StringType(), True), StructField('artist_location', StringType(), True), StructField('artist_longitude', StringType(), True), StructField('artist_members', StringType(), True), StructField('artist_name', StringType(), True), StructField('artist_related_projects', StringType(), True), StructField('artist_tags', StringType(), True), StructField('artist_website', StringType(), True), StructField('artist_wikipedia_page', StringType(), True), StructField('set_split', StringType(), True), StructField('set_subset', StringType(), True), StructField('track_bit_rate', StringType(), True), StructField('track_comments', StringType(), True), StructField('track_composer', StringType(), True), StructField('track_date_created', StringType(), True), StructField('track_date_recorded', StringType(), True), StructField('track_duration', StringType(), True), StructField('track_favorites', StringType(), True), StructField('track_genre_top', StringType(), True), StructField('track_genres', StringType(), True), StructField('track_genres_all', StringType(), True), StructField('track_id', StringType(), True), StructField('track_information', StringType(), True), StructField('track_interest', StringType(), True), StructField('track_language_code', StringType(), True), StructField('track_license', StringType(), True), StructField('track_listens', StringType(), True), StructField('track_lyricist', StringType(), True), StructField('track_number', StringType(), True), StructField('track_publisher', StringType(), True), StructField('track_tags', StringType(), True), StructField('track_title', StringType(), True)])"
      ]
     },
     "execution_count": 22,
     "metadata": {},
     "output_type": "execute_result"
    }
   ],
   "source": [
    "data = spark.read.csv(INPUT_METADATA_FILE, quote='\"', escape='\"', multiLine=True, inferSchema=True).rdd\n",
    "headerRow = ['_'.join(header) if idx > 0 else 'track_id' for idx, header in enumerate(zip(*[list(line.asDict().values()) for line in data.take(2)]))]\n",
    "\n",
    "headerRows = data.take(3)\n",
    "data = data.filter(lambda row: row not in headerRows)\n",
    "\n",
    "firstRow = data.first()\n",
    "\n",
    "data = data \\\n",
    "  .map(lambda row: list(row.asDict().values())) \\\n",
    "  .map(lambda row: {k: v for k, v in zip(headerRow, row)}) \\\n",
    "  .map(json.dumps)\n",
    "\n",
    "ds = spark.read.json(data, primitivesAsString=True)\n",
    "ds.schema"
   ]
  },
  {
   "cell_type": "code",
   "execution_count": 18,
   "metadata": {},
   "outputs": [
    {
     "name": "stderr",
     "output_type": "stream",
     "text": [
      "                                                                                \r"
     ]
    },
    {
     "data": {
      "text/plain": [
       "106574"
      ]
     },
     "execution_count": 18,
     "metadata": {},
     "output_type": "execute_result"
    }
   ],
   "source": [
    "ds.rdd.count()"
   ]
  },
  {
   "cell_type": "code",
   "execution_count": 23,
   "metadata": {},
   "outputs": [
    {
     "data": {
      "text/plain": [
       "[Row(album_comments='0', album_date_created='2008-11-26 01:44:45', album_date_released='2009-01-05 00:00:00', album_engineer=None, album_favorites='4', album_id='1', album_information='<p></p>', album_listens='6073', album_producer=None, album_tags='[]', album_title='AWOL - A Way Of Life', album_tracks='7', album_type='Album', artist_active_year_begin='2006-01-01 00:00:00', artist_active_year_end=None, artist_associated_labels=None, artist_bio='<p>A Way Of Life, A Collective of Hip-Hop from NJ...................</p>', artist_comments='0', artist_date_created='2008-11-26 01:42:32', artist_favorites='9', artist_id='1', artist_latitude='40.0583238', artist_location='New Jersey', artist_longitude='-74.4056612', artist_members='Sajje Morocco,Brownbum,ZawidaGod,Custodian of Records,Zooberelli the Don,F.A.H,MadSicka,Damien Omenicci..and a van load more...', artist_name='AWOL', artist_related_projects='The list of past projects is 2 long but every1 and every style from Tabby Bonet 2 M.O.P..Azillion Records Flagship trackmaster DJ BrownBum is a beat Wizard.....A-2-Z..illion....(right now working with JerseyBlock Ent)', artist_tags=\"['awol']\", artist_website='http://www.AzillionRecords.blogspot.com', artist_wikipedia_page=None, set_split='training', set_subset='small', track_bit_rate='256000', track_comments='0', track_composer=None, track_date_created='2008-11-26 01:48:12', track_date_recorded='2008-11-26 00:00:00', track_duration='168', track_favorites='2', track_genre_top='Hip-Hop', track_genres='[21]', track_genres_all='[21]', track_id='2', track_information=None, track_interest='4656', track_language_code='en', track_license='Attribution-NonCommercial-ShareAlike 3.0 International', track_listens='1293', track_lyricist=None, track_number='3', track_publisher=None, track_tags='[]', track_title='Food'),\n",
       " Row(album_comments='0', album_date_created='2008-11-26 01:44:45', album_date_released='2009-01-05 00:00:00', album_engineer=None, album_favorites='4', album_id='1', album_information='<p></p>', album_listens='6073', album_producer=None, album_tags='[]', album_title='AWOL - A Way Of Life', album_tracks='7', album_type='Album', artist_active_year_begin='2006-01-01 00:00:00', artist_active_year_end=None, artist_associated_labels=None, artist_bio='<p>A Way Of Life, A Collective of Hip-Hop from NJ...................</p>', artist_comments='0', artist_date_created='2008-11-26 01:42:32', artist_favorites='9', artist_id='1', artist_latitude='40.0583238', artist_location='New Jersey', artist_longitude='-74.4056612', artist_members='Sajje Morocco,Brownbum,ZawidaGod,Custodian of Records,Zooberelli the Don,F.A.H,MadSicka,Damien Omenicci..and a van load more...', artist_name='AWOL', artist_related_projects='The list of past projects is 2 long but every1 and every style from Tabby Bonet 2 M.O.P..Azillion Records Flagship trackmaster DJ BrownBum is a beat Wizard.....A-2-Z..illion....(right now working with JerseyBlock Ent)', artist_tags=\"['awol']\", artist_website='http://www.AzillionRecords.blogspot.com', artist_wikipedia_page=None, set_split='training', set_subset='medium', track_bit_rate='256000', track_comments='0', track_composer=None, track_date_created='2008-11-26 01:48:14', track_date_recorded='2008-11-26 00:00:00', track_duration='237', track_favorites='1', track_genre_top='Hip-Hop', track_genres='[21]', track_genres_all='[21]', track_id='3', track_information=None, track_interest='1470', track_language_code='en', track_license='Attribution-NonCommercial-ShareAlike 3.0 International', track_listens='514', track_lyricist=None, track_number='4', track_publisher=None, track_tags='[]', track_title='Electric Ave'),\n",
       " Row(album_comments='0', album_date_created='2008-11-26 01:44:45', album_date_released='2009-01-05 00:00:00', album_engineer=None, album_favorites='4', album_id='1', album_information='<p></p>', album_listens='6073', album_producer=None, album_tags='[]', album_title='AWOL - A Way Of Life', album_tracks='7', album_type='Album', artist_active_year_begin='2006-01-01 00:00:00', artist_active_year_end=None, artist_associated_labels=None, artist_bio='<p>A Way Of Life, A Collective of Hip-Hop from NJ...................</p>', artist_comments='0', artist_date_created='2008-11-26 01:42:32', artist_favorites='9', artist_id='1', artist_latitude='40.0583238', artist_location='New Jersey', artist_longitude='-74.4056612', artist_members='Sajje Morocco,Brownbum,ZawidaGod,Custodian of Records,Zooberelli the Don,F.A.H,MadSicka,Damien Omenicci..and a van load more...', artist_name='AWOL', artist_related_projects='The list of past projects is 2 long but every1 and every style from Tabby Bonet 2 M.O.P..Azillion Records Flagship trackmaster DJ BrownBum is a beat Wizard.....A-2-Z..illion....(right now working with JerseyBlock Ent)', artist_tags=\"['awol']\", artist_website='http://www.AzillionRecords.blogspot.com', artist_wikipedia_page=None, set_split='training', set_subset='small', track_bit_rate='256000', track_comments='0', track_composer=None, track_date_created='2008-11-26 01:48:20', track_date_recorded='2008-11-26 00:00:00', track_duration='206', track_favorites='6', track_genre_top='Hip-Hop', track_genres='[21]', track_genres_all='[21]', track_id='5', track_information=None, track_interest='1933', track_language_code='en', track_license='Attribution-NonCommercial-ShareAlike 3.0 International', track_listens='1151', track_lyricist=None, track_number='6', track_publisher=None, track_tags='[]', track_title='This World'),\n",
       " Row(album_comments='0', album_date_created='2008-11-26 01:45:08', album_date_released='2008-02-06 00:00:00', album_engineer=None, album_favorites='4', album_id='6', album_information=None, album_listens='47632', album_producer=None, album_tags='[]', album_title='Constant Hitmaker', album_tracks='2', album_type='Album', artist_active_year_begin=None, artist_active_year_end=None, artist_associated_labels='Mexican Summer, Richie Records, Woodsist, Skulltones', artist_bio='<p><span style=\"font-family:Verdana, Geneva, Arial;font-size:xx-small;\">\"Philly\\'s Constant Hitmaker\" Kurt Vile plays psychedelic experimental pop infused with a classic, folksy directness. 2008\\'s Gulcher Records release <i>Constant Hitmaker</i> more than lives up to the name. Vile\\'s a consistent live performer who\\'s shared the stage with a range of sonic adventurers and avant pop-stars including Sonic Youth, Big Star, Blues Control, Magik Markers, and Ariel Pink\\'s Haunted Graffiti.</span></p><p><span style=\"font-family:Verdana, Geneva, Arial;font-size:xx-small;\">After a slew of limited releases on labels like Mexican Summer, Richie Records, Woodsist, and Skulltones,</span><span style=\"font-family:Verdana, Geneva, Arial;font-size:xx-small;\"> Kurt Vile signed to Matador Records who released his first proper full-length (the Gulcher release was more of a \"greatest hits\"), <a title=\"Childish Prodigy\" href=\"http://www.matadorrecords.com/store/index.php?catalog_id=387\">Childish Prodigy</a>.<br /></span></p>', artist_comments='3', artist_date_created='2008-11-26 01:42:55', artist_favorites='74', artist_id='6', artist_latitude=None, artist_location=None, artist_longitude=None, artist_members='Kurt Vile, the Violators', artist_name='Kurt Vile', artist_related_projects=None, artist_tags=\"['philly', 'kurt vile']\", artist_website='http://kurtvile.com', artist_wikipedia_page=None, set_split='training', set_subset='small', track_bit_rate='192000', track_comments='0', track_composer='Kurt Vile', track_date_created='2008-11-25 17:49:06', track_date_recorded='2008-11-26 00:00:00', track_duration='161', track_favorites='178', track_genre_top='Pop', track_genres='[10]', track_genres_all='[10]', track_id='10', track_information=None, track_interest='54881', track_language_code='en', track_license='Attribution-NonCommercial-NoDerivatives (aka Music Sharing) 3.0 International', track_listens='50135', track_lyricist=None, track_number='1', track_publisher=None, track_tags='[]', track_title='Freeway'),\n",
       " Row(album_comments='0', album_date_created='2008-11-26 01:45:05', album_date_released='2009-01-06 00:00:00', album_engineer=None, album_favorites='2', album_id='4', album_information='<p>\\xa0\"spiritual songs\" from Nicky Cook</p>', album_listens='2710', album_producer=None, album_tags='[]', album_title='Niris', album_tracks='13', album_type='Album', artist_active_year_begin='1990-01-01 00:00:00', artist_active_year_end='2011-01-01 00:00:00', artist_associated_labels=None, artist_bio='<p>Songs written by: Nicky Cook</p>\\n<p>VOCALS, CAJON AND TABLA+ UKELELE</p>', artist_comments='2', artist_date_created='2008-11-26 01:42:52', artist_favorites='10', artist_id='4', artist_latitude='51.895927', artist_location='Colchester England', artist_longitude='0.891874', artist_members='Nicky Cook\\n', artist_name='Nicky Cook', artist_related_projects=None, artist_tags=\"['instrumentals', 'experimental pop', 'post punk', 'experimental rock', 'soundtracks', 'lo fi', 'nicky', 'impro', 'cook', 'nicky andrews', 'ukelele', 'nicky cook', 'singer songwriter', 'tabla']\", artist_website=None, artist_wikipedia_page=None, set_split='training', set_subset='large', track_bit_rate='256000', track_comments='0', track_composer=None, track_date_created='2008-11-26 01:48:56', track_date_recorded='2008-01-01 00:00:00', track_duration='311', track_favorites='0', track_genre_top=None, track_genres='[76, 103]', track_genres_all='[17, 10, 76, 103]', track_id='20', track_information=None, track_interest='978', track_language_code='en', track_license='Attribution-NonCommercial-NoDerivatives (aka Music Sharing) 3.0 International', track_listens='361', track_lyricist=None, track_number='3', track_publisher=None, track_tags='[]', track_title='Spiritual Level'),\n",
       " Row(album_comments='0', album_date_created='2008-11-26 01:45:05', album_date_released='2009-01-06 00:00:00', album_engineer=None, album_favorites='2', album_id='4', album_information='<p>\\xa0\"spiritual songs\" from Nicky Cook</p>', album_listens='2710', album_producer=None, album_tags='[]', album_title='Niris', album_tracks='13', album_type='Album', artist_active_year_begin='1990-01-01 00:00:00', artist_active_year_end='2011-01-01 00:00:00', artist_associated_labels=None, artist_bio='<p>Songs written by: Nicky Cook</p>\\n<p>VOCALS, CAJON AND TABLA+ UKELELE</p>', artist_comments='2', artist_date_created='2008-11-26 01:42:52', artist_favorites='10', artist_id='4', artist_latitude='51.895927', artist_location='Colchester England', artist_longitude='0.891874', artist_members='Nicky Cook\\n', artist_name='Nicky Cook', artist_related_projects=None, artist_tags=\"['instrumentals', 'experimental pop', 'post punk', 'experimental rock', 'soundtracks', 'lo fi', 'nicky', 'impro', 'cook', 'nicky andrews', 'ukelele', 'nicky cook', 'singer songwriter', 'tabla']\", artist_website=None, artist_wikipedia_page=None, set_split='training', set_subset='large', track_bit_rate='256000', track_comments='0', track_composer=None, track_date_created='2008-11-26 01:49:05', track_date_recorded='2008-01-01 00:00:00', track_duration='181', track_favorites='0', track_genre_top=None, track_genres='[76, 103]', track_genres_all='[17, 10, 76, 103]', track_id='26', track_information=None, track_interest='1060', track_language_code='en', track_license='Attribution-NonCommercial-NoDerivatives (aka Music Sharing) 3.0 International', track_listens='193', track_lyricist=None, track_number='4', track_publisher=None, track_tags='[]', track_title='Where is your Love?')]"
      ]
     },
     "execution_count": 23,
     "metadata": {},
     "output_type": "execute_result"
    }
   ],
   "source": [
    "ds.take(6)"
   ]
  },
  {
   "cell_type": "code",
   "execution_count": 24,
   "metadata": {},
   "outputs": [
    {
     "name": "stderr",
     "output_type": "stream",
     "text": [
      "[Stage 43:>                                                         (0 + 1) / 1]\r"
     ]
    }
   ],
   "source": [
    "data = ds.rdd.filter(lambda v: v['set_subset'] == 'small')\n",
    "data.count() # 8000 lines"
   ]
  }
 ],
 "metadata": {
  "kernelspec": {
   "display_name": "Python 3",
   "language": "python",
   "name": "python3"
  },
  "language_info": {
   "codemirror_mode": {
    "name": "ipython",
    "version": 3
   },
   "file_extension": ".py",
   "mimetype": "text/x-python",
   "name": "python",
   "nbconvert_exporter": "python",
   "pygments_lexer": "ipython3",
   "version": "3.10.10"
  },
  "orig_nbformat": 4
 },
 "nbformat": 4,
 "nbformat_minor": 2
}
