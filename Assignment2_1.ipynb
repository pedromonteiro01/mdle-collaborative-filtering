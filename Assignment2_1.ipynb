{
 "cells": [
  {
   "cell_type": "code",
   "execution_count": 1,
   "metadata": {},
   "outputs": [],
   "source": [
    "from pyspark import SparkContext, SparkConf\n",
    "from pyspark.sql import SparkSession\n",
    "\n",
    "import json"
   ]
  },
  {
   "cell_type": "code",
   "execution_count": 2,
   "metadata": {},
   "outputs": [],
   "source": [
    "# Spark Constants\n",
    "APP_NAME = 'assignment1'\n",
    "MASTER = 'local[*]'\n",
    "\n",
    "# Input Constants\n",
    "INPUT_METADATA_FILE = 'tracks.csv'\n",
    "INPUT_FEATURES_FILE = 'features.csv'\n",
    "\n",
    "# Data Columns\n",
    "COLUMN_TRACK_ID = 'track_id'\n",
    "COLUMN_SUBSET = 'set_subset'\n",
    "\n",
    "# Application Constants\n",
    "SUBSET_SMALL_VALUE = 'small'"
   ]
  },
  {
   "cell_type": "code",
   "execution_count": 3,
   "metadata": {},
   "outputs": [
    {
     "name": "stdout",
     "output_type": "stream",
     "text": [
      "23/04/13 13:16:20 WARN Utils: Your hostname, pedro-duarte resolves to a loopback address: 127.0.1.1; using 192.168.32.217 instead (on interface wlp2s0)\n",
      "23/04/13 13:16:20 WARN Utils: Set SPARK_LOCAL_IP if you need to bind to another address\n"
     ]
    },
    {
     "name": "stderr",
     "output_type": "stream",
     "text": [
      "Setting default log level to \"WARN\".\n",
      "To adjust logging level use sc.setLogLevel(newLevel). For SparkR, use setLogLevel(newLevel).\n"
     ]
    },
    {
     "name": "stdout",
     "output_type": "stream",
     "text": [
      "23/04/13 13:16:21 WARN NativeCodeLoader: Unable to load native-hadoop library for your platform... using builtin-java classes where applicable\n"
     ]
    }
   ],
   "source": [
    "conf = SparkConf().setAppName(APP_NAME).setMaster(MASTER)\n",
    "sc = SparkContext.getOrCreate(conf=conf)\n",
    "\n",
    "spark = SparkSession.builder.appName(APP_NAME).master(MASTER).getOrCreate()"
   ]
  },
  {
   "cell_type": "code",
   "execution_count": 4,
   "metadata": {},
   "outputs": [],
   "source": [
    "def try_decoding(content: str):\n",
    "    try:\n",
    "        return json.loads(content) if content is not None else None\n",
    "    except json.JSONDecodeError as e:\n",
    "        return content\n",
    "    \n",
    "def import_dataset(ds: str, header_size: int):\n",
    "    data = spark.read.csv(ds, quote='\"', escape='\"', multiLine=True, inferSchema=True).rdd\n",
    "    headerRow = ['_'.join(header) if idx > 0 else COLUMN_TRACK_ID for idx, header in enumerate(zip(*[list(line.asDict().values()) for line in data.take(header_size)]))]\n",
    "\n",
    "    headerRows = data.take(header_size+1)\n",
    "    data = data.filter(lambda row: row not in headerRows)\n",
    "\n",
    "    data = data \\\n",
    "    .map(lambda row: list(row.asDict().values())) \\\n",
    "    .map(lambda row: {k: try_decoding(v) for k, v in zip(headerRow, row)}) \\\n",
    "    .map(json.dumps)\n",
    "\n",
    "    return spark.read.json(data)"
   ]
  },
  {
   "cell_type": "code",
   "execution_count": 5,
   "metadata": {},
   "outputs": [
    {
     "name": "stderr",
     "output_type": "stream",
     "text": [
      "                                                                                \r"
     ]
    },
    {
     "data": {
      "text/plain": [
       "StructType([StructField('album_comments', LongType(), True), StructField('album_date_created', StringType(), True), StructField('album_date_released', StringType(), True), StructField('album_engineer', StringType(), True), StructField('album_favorites', LongType(), True), StructField('album_id', LongType(), True), StructField('album_information', StringType(), True), StructField('album_listens', LongType(), True), StructField('album_producer', StringType(), True), StructField('album_tags', StringType(), True), StructField('album_title', StringType(), True), StructField('album_tracks', LongType(), True), StructField('album_type', StringType(), True), StructField('artist_active_year_begin', StringType(), True), StructField('artist_active_year_end', StringType(), True), StructField('artist_associated_labels', StringType(), True), StructField('artist_bio', StringType(), True), StructField('artist_comments', LongType(), True), StructField('artist_date_created', StringType(), True), StructField('artist_favorites', LongType(), True), StructField('artist_id', LongType(), True), StructField('artist_latitude', DoubleType(), True), StructField('artist_location', StringType(), True), StructField('artist_longitude', DoubleType(), True), StructField('artist_members', StringType(), True), StructField('artist_name', StringType(), True), StructField('artist_related_projects', StringType(), True), StructField('artist_tags', StringType(), True), StructField('artist_website', StringType(), True), StructField('artist_wikipedia_page', StringType(), True), StructField('set_split', StringType(), True), StructField('set_subset', StringType(), True), StructField('track_bit_rate', LongType(), True), StructField('track_comments', LongType(), True), StructField('track_composer', StringType(), True), StructField('track_date_created', StringType(), True), StructField('track_date_recorded', StringType(), True), StructField('track_duration', LongType(), True), StructField('track_favorites', LongType(), True), StructField('track_genre_top', StringType(), True), StructField('track_genres', ArrayType(LongType(), True), True), StructField('track_genres_all', ArrayType(LongType(), True), True), StructField('track_id', LongType(), True), StructField('track_information', StringType(), True), StructField('track_interest', LongType(), True), StructField('track_language_code', StringType(), True), StructField('track_license', StringType(), True), StructField('track_listens', LongType(), True), StructField('track_lyricist', StringType(), True), StructField('track_number', LongType(), True), StructField('track_publisher', StringType(), True), StructField('track_tags', StringType(), True), StructField('track_title', StringType(), True)])"
      ]
     },
     "execution_count": 5,
     "metadata": {},
     "output_type": "execute_result"
    }
   ],
   "source": [
    "tracks_ds = import_dataset(INPUT_METADATA_FILE, 2)\n",
    "tracks_ds.schema"
   ]
  },
  {
   "cell_type": "code",
   "execution_count": 6,
   "metadata": {},
   "outputs": [
    {
     "name": "stderr",
     "output_type": "stream",
     "text": [
      "                                                                                \r"
     ]
    },
    {
     "data": {
      "text/plain": [
       "8000"
      ]
     },
     "execution_count": 6,
     "metadata": {},
     "output_type": "execute_result"
    }
   ],
   "source": [
    "tracks_ds = tracks_ds.rdd \\\n",
    "  .filter(lambda v: v[COLUMN_SUBSET] == SUBSET_SMALL_VALUE) \\\n",
    "  .map(lambda v: (v[COLUMN_TRACK_ID], v))\n",
    "tracks_ds.count() # 8000 lines"
   ]
  },
  {
   "cell_type": "code",
   "execution_count": 7,
   "metadata": {},
   "outputs": [
    {
     "name": "stderr",
     "output_type": "stream",
     "text": [
      "                                                                                \r"
     ]
    }
   ],
   "source": [
    "features_ds = import_dataset(INPUT_FEATURES_FILE, 3).rdd.map(lambda v: (v[COLUMN_TRACK_ID], v))"
   ]
  },
  {
   "cell_type": "code",
   "execution_count": 10,
   "metadata": {},
   "outputs": [
    {
     "name": "stderr",
     "output_type": "stream",
     "text": [
      "                                                                                \r"
     ]
    },
    {
     "data": {
      "text/plain": [
       "8000"
      ]
     },
     "execution_count": 10,
     "metadata": {},
     "output_type": "execute_result"
    }
   ],
   "source": [
    "ds = tracks_ds.join(features_ds)\n",
    "ds.count() # 8000 linhas"
   ]
  }
 ],
 "metadata": {
  "kernelspec": {
   "display_name": "Python 3",
   "language": "python",
   "name": "python3"
  },
  "language_info": {
   "codemirror_mode": {
    "name": "ipython",
    "version": 3
   },
   "file_extension": ".py",
   "mimetype": "text/x-python",
   "name": "python",
   "nbconvert_exporter": "python",
   "pygments_lexer": "ipython3",
   "version": "3.10.10"
  },
  "orig_nbformat": 4
 },
 "nbformat": 4,
 "nbformat_minor": 2
}
