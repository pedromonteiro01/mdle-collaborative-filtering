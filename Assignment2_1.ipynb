{
 "cells": [
  {
   "cell_type": "code",
   "execution_count": 1,
   "metadata": {},
   "outputs": [],
   "source": [
    "from pyspark import SparkContext, SparkConf, Row\n",
    "from pyspark.sql import SparkSession\n",
    "\n",
    "from operator import add"
   ]
  },
  {
   "cell_type": "code",
   "execution_count": 2,
   "metadata": {},
   "outputs": [],
   "source": [
    "# Spark Constants\n",
    "APP_NAME = 'assignment1'\n",
    "MASTER = 'local[*]'\n",
    "\n",
    "# Input Constants\n",
    "INPUT_METADATA_FILE = 'tracks.csv'\n",
    "INPUT_FEATURES_FILE = 'features.csv'"
   ]
  },
  {
   "cell_type": "code",
   "execution_count": 3,
   "metadata": {},
   "outputs": [
    {
     "name": "stdout",
     "output_type": "stream",
     "text": [
      "23/04/06 21:09:24 WARN Utils: Your hostname, pedro-duarte resolves to a loopback address: 127.0.1.1; using 192.168.0.103 instead (on interface wlp2s0)\n",
      "23/04/06 21:09:24 WARN Utils: Set SPARK_LOCAL_IP if you need to bind to another address\n"
     ]
    },
    {
     "name": "stderr",
     "output_type": "stream",
     "text": [
      "Setting default log level to \"WARN\".\n",
      "To adjust logging level use sc.setLogLevel(newLevel). For SparkR, use setLogLevel(newLevel).\n"
     ]
    },
    {
     "name": "stdout",
     "output_type": "stream",
     "text": [
      "23/04/06 21:09:25 WARN NativeCodeLoader: Unable to load native-hadoop library for your platform... using builtin-java classes where applicable\n"
     ]
    }
   ],
   "source": [
    "conf = SparkConf().setAppName(APP_NAME).setMaster(MASTER)\n",
    "sc = SparkContext.getOrCreate(conf=conf)\n",
    "\n",
    "spark = SparkSession.builder.appName(APP_NAME).master(MASTER).getOrCreate()"
   ]
  },
  {
   "cell_type": "code",
   "execution_count": 31,
   "metadata": {},
   "outputs": [
    {
     "name": "stderr",
     "output_type": "stream",
     "text": [
      "                                                                                \r"
     ]
    },
    {
     "data": {
      "text/plain": [
       "StructType([StructField('_corrupt_record', StringType(), True), StructField('album_comments', StringType(), True), StructField('album_date_created', StringType(), True), StructField('album_date_released', StringType(), True), StructField('album_engineer', StringType(), True), StructField('album_favorites', StringType(), True), StructField('album_id', StringType(), True), StructField('album_information', StringType(), True), StructField('album_listens', StringType(), True), StructField('album_producer', StringType(), True), StructField('album_tags', StringType(), True), StructField('album_title', StringType(), True), StructField('album_tracks', StringType(), True), StructField('album_type', StringType(), True), StructField('artist_active_year_begin', StringType(), True), StructField('artist_active_year_end', StringType(), True), StructField('artist_associated_labels', StringType(), True), StructField('artist_bio', StringType(), True), StructField('artist_comments', StringType(), True), StructField('artist_date_created', StringType(), True), StructField('artist_favorites', StringType(), True), StructField('artist_id', StringType(), True), StructField('artist_latitude', StringType(), True), StructField('artist_location', StringType(), True), StructField('artist_longitude', StringType(), True), StructField('artist_members', StringType(), True), StructField('artist_name', StringType(), True), StructField('artist_related_projects', StringType(), True), StructField('artist_tags', StringType(), True), StructField('artist_website', StringType(), True), StructField('artist_wikipedia_page', StringType(), True), StructField('set_split', StringType(), True), StructField('set_subset', StringType(), True), StructField('track_bit_rate', StringType(), True), StructField('track_comments', StringType(), True), StructField('track_composer', StringType(), True), StructField('track_date_created', StringType(), True), StructField('track_date_recorded', StringType(), True), StructField('track_duration', StringType(), True), StructField('track_favorites', StringType(), True), StructField('track_genre_top', StringType(), True), StructField('track_genres', StringType(), True), StructField('track_genres_all', StringType(), True), StructField('track_id', StringType(), True), StructField('track_information', StringType(), True), StructField('track_interest', StringType(), True), StructField('track_language_code', StringType(), True), StructField('track_license', StringType(), True), StructField('track_listens', StringType(), True), StructField('track_lyricist', StringType(), True), StructField('track_number', StringType(), True), StructField('track_publisher', StringType(), True), StructField('track_tags', StringType(), True), StructField('track_title', StringType(), True)])"
      ]
     },
     "execution_count": 31,
     "metadata": {},
     "output_type": "execute_result"
    }
   ],
   "source": [
    "data = spark.read.csv(INPUT_METADATA_FILE, quote='\"', escape='\"', multiLine=True).rdd\n",
    "headerRow = ['_'.join(header) if idx > 0 else 'track_id' for idx, header in enumerate(zip(*[list(line.asDict().values()) for line in data.take(2)]))]\n",
    "\n",
    "headerRows = data.take(3)\n",
    "data = data.filter(lambda row: row not in headerRows)\n",
    "\n",
    "firstRow = data.first()\n",
    "\n",
    "data = data \\\n",
    "  .map(lambda row: list(row.asDict().values())) \\\n",
    "  .map(lambda row: [v if v != None else '' for v in row]) \\\n",
    "  .map(lambda row: {k: v for k, v in zip(headerRow, row)})\n",
    "\n",
    "ds = spark.read.json(data)\n",
    "ds.schema"
   ]
  },
  {
   "cell_type": "code",
   "execution_count": 20,
   "metadata": {},
   "outputs": [
    {
     "name": "stderr",
     "output_type": "stream",
     "text": [
      "                                                                                \r"
     ]
    },
    {
     "data": {
      "text/plain": [
       "106574"
      ]
     },
     "execution_count": 20,
     "metadata": {},
     "output_type": "execute_result"
    }
   ],
   "source": [
    "ds.rdd.count()"
   ]
  },
  {
   "cell_type": "code",
   "execution_count": 38,
   "metadata": {},
   "outputs": [
    {
     "name": "stderr",
     "output_type": "stream",
     "text": [
      "                                                                                \r"
     ]
    },
    {
     "data": {
      "text/plain": [
       "[None]"
      ]
     },
     "execution_count": 38,
     "metadata": {},
     "output_type": "execute_result"
    }
   ],
   "source": [
    "ds.rdd.map(lambda v: v['set_subset']).filter(lambda v: v not in ('small', 'medium', 'large'))"
   ]
  },
  {
   "cell_type": "code",
   "execution_count": 33,
   "metadata": {},
   "outputs": [
    {
     "name": "stderr",
     "output_type": "stream",
     "text": [
      "                                                                                \r"
     ]
    },
    {
     "data": {
      "text/plain": [
       "4483"
      ]
     },
     "execution_count": 33,
     "metadata": {},
     "output_type": "execute_result"
    }
   ],
   "source": [
    "data = ds.rdd.filter(lambda v: v['set_subset'] == 'small')\n",
    "data.count() # 8000 lines"
   ]
  }
 ],
 "metadata": {
  "kernelspec": {
   "display_name": "Python 3",
   "language": "python",
   "name": "python3"
  },
  "language_info": {
   "codemirror_mode": {
    "name": "ipython",
    "version": 3
   },
   "file_extension": ".py",
   "mimetype": "text/x-python",
   "name": "python",
   "nbconvert_exporter": "python",
   "pygments_lexer": "ipython3",
   "version": "3.10.10"
  },
  "orig_nbformat": 4
 },
 "nbformat": 4,
 "nbformat_minor": 2
}
